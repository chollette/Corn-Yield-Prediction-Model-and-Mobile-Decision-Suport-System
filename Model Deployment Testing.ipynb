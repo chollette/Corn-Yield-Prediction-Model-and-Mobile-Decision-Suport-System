{
 "cells": [
  {
   "cell_type": "code",
   "execution_count": null,
   "id": "4c6b92b9",
   "metadata": {
    "id": "4c6b92b9"
   },
   "outputs": [],
   "source": [
    "import sys\n",
    "import json\n",
    "import time\n",
    "import pickle\n",
    "import numpy as np\n",
    "import pandas as pd\n",
    "from flask import Flask, request, jsonify\n",
    "from sklearn.preprocessing import LabelEncoder"
   ]
  },
  {
   "cell_type": "code",
   "execution_count": null,
   "id": "d6f4bc01",
   "metadata": {},
   "outputs": [],
   "source": [
    "# install useful libraries\n",
    "# install flask\n",
    "!{sys.executable} -m pip install flask"
   ]
  },
  {
   "cell_type": "code",
   "execution_count": null,
   "id": "f64af106",
   "metadata": {},
   "outputs": [],
   "source": [
    "# install unicorn\n",
    "!{sys.executable} -m pip install gunicorn"
   ]
  },
  {
   "cell_type": "code",
   "execution_count": null,
   "id": "a4b6958a",
   "metadata": {
    "id": "a4b6958a"
   },
   "outputs": [],
   "source": [
    "#load model saved to disk with pickle for new data\n",
    "model = pickle.load(open( 'model','rb'))"
   ]
  },
  {
   "cell_type": "code",
   "execution_count": null,
   "id": "d80ea535",
   "metadata": {
    "id": "d80ea535",
    "outputId": "274aeda8-0036-4c9f-e0b4-84632ad95f5e"
   },
   "outputs": [
    {
     "name": "stdout",
     "output_type": "stream",
     "text": [
      "   State  Average_avg-Temp  avg-precipitation  avg-windSpeed    PH   Clay  \\\n",
      "0   Abia             26.19             182.66           1.46  5.45  25.83   \n",
      "1  Benue             26.93             119.75           1.63  5.85  18.83   \n",
      "2  Kwara             25.29             108.31           1.66  5.46  27.33   \n",
      "\n",
      "    Sand   Silt  Hectare  \n",
      "0  68.00   8.83    41.39  \n",
      "1  51.33  20.00   109.76  \n",
      "2  55.16  16.83    63.65  \n"
     ]
    }
   ],
   "source": [
    "# multi-point data points\n",
    "data = {\n",
    "        'State': ['Abia', 'Benue', 'Kwara'],\n",
    "        'Average_avg-Temp': [26.19, 26.93, 25.29],\n",
    "        'avg-precipitation': [182.66, 119.75, 108.31],\n",
    "    'avg-windSpeed': [1.46, 1.63, 1.66],\n",
    "    'PH': [5.45, 5.85, 5.46],\n",
    "    'Clay': [25.83, 18.83, 27.33],\n",
    "    'Sand': [68, 51.33, 55.16],\n",
    "    'Silt': [8.83, 20, 16.83],\n",
    "    'Hectare': [41.39, 109.76, 63.65]\n",
    "}\n",
    "\n",
    "data = pd.DataFrame.from_dict(data)\n",
    "print(data)"
   ]
  },
  {
   "cell_type": "code",
   "execution_count": null,
   "id": "24354c7f",
   "metadata": {
    "id": "24354c7f",
    "outputId": "3763d050-b682-4547-8e99-39476b43d380"
   },
   "outputs": [
    {
     "name": "stdout",
     "output_type": "stream",
     "text": [
      "  State  Average_avg-Temp  avg-precipitation  avg-windSpeed  PH  Clay  Sand  \\\n",
      "0  Abia                26                230            1.1   5    18    51   \n",
      "\n",
      "   Silt  Hectare  \n",
      "0    20       22  \n"
     ]
    }
   ],
   "source": [
    "# Create Single point data as json\n",
    "\n",
    "data = {\n",
    "        'State': ['Abia'],\n",
    "        'Average_avg-Temp': [26],\n",
    "        'avg-precipitation': [230],\n",
    "    'avg-windSpeed': [1.1],\n",
    "    'PH': [5],\n",
    "    'Clay': [18],\n",
    "    'Sand': [51],\n",
    "    'Silt': [20],\n",
    "    'Hectare': [22]\n",
    "}\n",
    "\n",
    "data = pd.DataFrame.from_dict(data)\n",
    "print(data)"
   ]
  },
  {
   "cell_type": "code",
   "execution_count": null,
   "id": "8f249941",
   "metadata": {
    "id": "8f249941",
    "outputId": "c7eb984a-827f-4d1a-e358-0069c802f649"
   },
   "outputs": [
    {
     "name": "stdout",
     "output_type": "stream",
     "text": [
      "{\"data\": {\"State\":{\"0\":0},\"Average_avg-Temp\":{\"0\":26},\"avg-precipitation\":{\"0\":230},\"avg-windSpeed\":{\"0\":1.1},\"PH\":{\"0\":5},\"Clay\":{\"0\":18},\"Sand\":{\"0\":51},\"Silt\":{\"0\":20},\"Hectare\":{\"0\":22}}}\n"
     ]
    }
   ],
   "source": [
    "# Encode and serialize data\n",
    "\n",
    "def prepare_data(data):\n",
    "    #label encoding\n",
    "    le = LabelEncoder()\n",
    "    data['State'] = le.fit_transform(data['State'])\n",
    "    return data  \n",
    "\n",
    "test = prepare_data(data)\n",
    "# Serializing json   \n",
    "test = test.to_json()\n",
    "test = \"{\\\"data\\\": \" + test +\"}\"\n",
    "\n",
   ]
  },
  {
   "cell_type": "code",
   "execution_count": null,
   "id": "07242410",
   "metadata": {
    "id": "07242410"
   },
   "outputs": [],
   "source": [
    "# make prediction\n",
    "\n",
    "def predict(data, model):\n",
    "    try:\n",
    "        #load as json file\n",
    "        data = json.loads(data)['data']  \n",
    "        data = pd.DataFrame(data)\n",
    "        #request.get_json()\n",
    "        \n",
    "        # make prediction    \n",
    "        result = model.predict(data)\n",
    "        return result.tolist()\n",
    "    except Exception as e:\n",
    "        error = str(e)\n",
    "        print(\"ERROR: \" + error + \" \" + time.strftime(\"%H:%M:%S\"))\n",
    "        return error"
   ]
  },
  {
   "cell_type": "code",
   "execution_count": null,
   "id": "60543c1e",
   "metadata": {
    "id": "60543c1e",
    "outputId": "e9014c55-a9f0-44f7-eee5-767405bb1925"
   },
   "outputs": [
    {
     "data": {
      "text/plain": [
 
      ]
     },
     "execution_count": 18,
     "metadata": {},
     "output_type": "execute_result"
    }
   ],
   "source": [
    "predict(test,model)"
   ]
  }
 ],
 "metadata": {
  "colab": {
   "name": "TestingModel.ipynb",
   "provenance": []
  },
  "kernelspec": {
   "display_name": "Python 3 (ipykernel)",
   "language": "python",
   "name": "python3"
  },
  "language_info": {
   "codemirror_mode": {
    "name": "ipython",
    "version": 3
   },
   "file_extension": ".py",
   "mimetype": "text/x-python",
   "name": "python",
   "nbconvert_exporter": "python",
   "pygments_lexer": "ipython3",
   "version": "3.10.9"
  }
 },
 "nbformat": 4,
 "nbformat_minor": 5
}
