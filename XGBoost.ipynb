{
 "cells": [
  {
   "cell_type": "markdown",
   "id": "38943696",
   "metadata": {
    "colab": {
     "base_uri": "https://localhost:8080/"
    },
    "executionInfo": {
     "elapsed": 4153,
     "status": "ok",
     "timestamp": 1633231252205,
     "user": {
      "displayName": "Chollette Olisah",
      "photoUrl": "https://lh3.googleusercontent.com/a/default-user=s64",
      "userId": "06699216493296651242"
     },
     "user_tz": -60
    },
    "id": "eacefddc",
    "outputId": "3cfad504-0b60-4f74-efde-9fe6cd2ca0c4"
   },
   "source": [
    "## Install and Import XGBoost Library"
   ]
  },
  {
   "cell_type": "code",
   "execution_count": null,
   "id": "a7936e76",
   "metadata": {},
   "outputs": [],
   "source": [
    "import sys\n",
    "!{sys.executable} -m pip install xgboost"
   ]
  },
  {
   "cell_type": "code",
   "execution_count": null,
   "id": "d7c34f18",
   "metadata": {
    "colab": {
     "base_uri": "https://localhost:8080/"
    },
    "executionInfo": {
     "elapsed": 2100,
     "status": "ok",
     "timestamp": 1633231258499,
     "user": {
      "displayName": "Chollette Olisah",
      "photoUrl": "https://lh3.googleusercontent.com/a/default-user=s64",
      "userId": "06699216493296651242"
     },
     "user_tz": -60
    },
    "id": "d7c34f18",
    "outputId": "576f5a6b-9d70-408e-a29a-da3b4adbb663"
   },
   "outputs": [],
   "source": [
    "import xgboost\n",
    "print(xgboost.__version__)\n",
    "\n",
    "# Pandas is used for data manipulation\n",
    "import pandas as pd\n",
    "import numpy as np\n",
    "import sklearn\n",
    "from numpy import absolute\n",
    "from pandas import read_csv\n",
    "from xgboost import XGBRegressor\n",
    "from sklearn.model_selection import cross_val_score\n",
    "from sklearn.model_selection import RepeatedKFold\n",
    "from sklearn.model_selection import train_test_split"
   ]
  },
  {
   "cell_type": "markdown",
   "id": "b83130cc",
   "metadata": {},
   "source": [
    "#### Data and Preparation"
   ]
  },
  {
   "cell_type": "code",
   "execution_count": 5,
   "id": "c6b6f3f6",
   "metadata": {
    "colab": {
     "base_uri": "https://localhost:8080/",
     "height": 206
    },
    "executionInfo": {
     "elapsed": 1345,
     "status": "ok",
     "timestamp": 1633231346448,
     "user": {
      "displayName": "Chollette Olisah",
      "photoUrl": "https://lh3.googleusercontent.com/a/default-user=s64",
      "userId": "06699216493296651242"
     },
     "user_tz": -60
    },
    "id": "c6b6f3f6",
    "outputId": "0f4e5c0f-fadb-4f23-8f49-43a43cc0b809"
   },
   "outputs": [
    {
     "data": {
      "text/html": [
       "<div>\n",
       "<style scoped>\n",
       "    .dataframe tbody tr th:only-of-type {\n",
       "        vertical-align: middle;\n",
       "    }\n",
       "\n",
       "    .dataframe tbody tr th {\n",
       "        vertical-align: top;\n",
       "    }\n",
       "\n",
       "    .dataframe thead th {\n",
       "        text-align: right;\n",
       "    }\n",
       "</style>\n",
       "<table border=\"1\" class=\"dataframe\">\n",
       "  <thead>\n",
       "    <tr style=\"text-align: right;\">\n",
       "      <th></th>\n",
       "      <th>State</th>\n",
       "      <th>Average_avg-Temp</th>\n",
       "      <th>Average-Min Temp</th>\n",
       "      <th>Average-max-temp</th>\n",
       "      <th>avg-precipitation</th>\n",
       "      <th>avg-windSpeed</th>\n",
       "      <th>pH</th>\n",
       "      <th>Clay</th>\n",
       "      <th>Sand</th>\n",
       "      <th>Silt</th>\n",
       "      <th>Crop Yield</th>\n",
       "      <th>Hectare</th>\n",
       "    </tr>\n",
       "  </thead>\n",
       "  <tbody>\n",
       "    <tr>\n",
       "      <th>0</th>\n",
       "      <td>Plateau</td>\n",
       "      <td>21.258682</td>\n",
       "      <td>15.489182</td>\n",
       "      <td>27.028740</td>\n",
       "      <td>107.791667</td>\n",
       "      <td>2.258682</td>\n",
       "      <td>5.833333</td>\n",
       "      <td>29.500000</td>\n",
       "      <td>43.166667</td>\n",
       "      <td>25.833333</td>\n",
       "      <td>2.603023</td>\n",
       "      <td>1.686768</td>\n",
       "    </tr>\n",
       "    <tr>\n",
       "      <th>1</th>\n",
       "      <td>Taraba</td>\n",
       "      <td>21.287979</td>\n",
       "      <td>15.765146</td>\n",
       "      <td>26.809448</td>\n",
       "      <td>136.270833</td>\n",
       "      <td>1.733292</td>\n",
       "      <td>5.400000</td>\n",
       "      <td>37.833333</td>\n",
       "      <td>35.833333</td>\n",
       "      <td>25.000000</td>\n",
       "      <td>2.389935</td>\n",
       "      <td>2.622656</td>\n",
       "    </tr>\n",
       "    <tr>\n",
       "      <th>2</th>\n",
       "      <td>Plateau</td>\n",
       "      <td>21.341573</td>\n",
       "      <td>16.420537</td>\n",
       "      <td>27.247260</td>\n",
       "      <td>103.395833</td>\n",
       "      <td>2.258510</td>\n",
       "      <td>6.200000</td>\n",
       "      <td>27.500000</td>\n",
       "      <td>44.500000</td>\n",
       "      <td>29.333333</td>\n",
       "      <td>2.603023</td>\n",
       "      <td>1.686768</td>\n",
       "    </tr>\n",
       "    <tr>\n",
       "      <th>3</th>\n",
       "      <td>Plateau</td>\n",
       "      <td>21.474099</td>\n",
       "      <td>15.814495</td>\n",
       "      <td>27.124927</td>\n",
       "      <td>111.145833</td>\n",
       "      <td>2.237911</td>\n",
       "      <td>5.300000</td>\n",
       "      <td>30.833333</td>\n",
       "      <td>43.666667</td>\n",
       "      <td>23.833333</td>\n",
       "      <td>2.603023</td>\n",
       "      <td>1.686768</td>\n",
       "    </tr>\n",
       "    <tr>\n",
       "      <th>4</th>\n",
       "      <td>Plateau</td>\n",
       "      <td>21.523187</td>\n",
       "      <td>15.900604</td>\n",
       "      <td>27.139937</td>\n",
       "      <td>101.750000</td>\n",
       "      <td>2.405010</td>\n",
       "      <td>5.850000</td>\n",
       "      <td>30.000000</td>\n",
       "      <td>48.166667</td>\n",
       "      <td>23.833333</td>\n",
       "      <td>2.603023</td>\n",
       "      <td>1.686768</td>\n",
       "    </tr>\n",
       "  </tbody>\n",
       "</table>\n",
       "</div>"
      ],
      "text/plain": [
       "     State  Average_avg-Temp  Average-Min Temp  Average-max-temp  \\\n",
       "0  Plateau         21.258682         15.489182         27.028740   \n",
       "1   Taraba         21.287979         15.765146         26.809448   \n",
       "2  Plateau         21.341573         16.420537         27.247260   \n",
       "3  Plateau         21.474099         15.814495         27.124927   \n",
       "4  Plateau         21.523187         15.900604         27.139937   \n",
       "\n",
       "   avg-precipitation  avg-windSpeed        pH       Clay       Sand  \\\n",
       "0         107.791667       2.258682  5.833333  29.500000  43.166667   \n",
       "1         136.270833       1.733292  5.400000  37.833333  35.833333   \n",
       "2         103.395833       2.258510  6.200000  27.500000  44.500000   \n",
       "3         111.145833       2.237911  5.300000  30.833333  43.666667   \n",
       "4         101.750000       2.405010  5.850000  30.000000  48.166667   \n",
       "\n",
       "        Silt  Crop Yield   Hectare  \n",
       "0  25.833333    2.603023  1.686768  \n",
       "1  25.000000    2.389935  2.622656  \n",
       "2  29.333333    2.603023  1.686768  \n",
       "3  23.833333    2.603023  1.686768  \n",
       "4  23.833333    2.603023  1.686768  "
      ]
     },
     "execution_count": 5,
     "metadata": {},
     "output_type": "execute_result"
    }
   ],
   "source": [
    "\n",
    "# Read in data as pandas dataframe and display first 5 rows\n",
    "features = pd.read_csv('final-data-edited-nozero.csv')\n",
    "features.head(5)"
   ]
  },
  {
   "cell_type": "code",
   "execution_count": 7,
   "id": "3cda3f3c",
   "metadata": {
    "colab": {
     "base_uri": "https://localhost:8080/",
     "height": 243
    },
    "executionInfo": {
     "elapsed": 517,
     "status": "ok",
     "timestamp": 1633231352053,
     "user": {
      "displayName": "Chollette Olisah",
      "photoUrl": "https://lh3.googleusercontent.com/a/default-user=s64",
      "userId": "06699216493296651242"
     },
     "user_tz": -60
    },
    "id": "3cda3f3c",
    "outputId": "e5de56a1-5c73-459c-99c8-3a5e23652fed"
   },
   "outputs": [
    {
     "data": {
      "text/html": [
       "<div>\n",
       "<style scoped>\n",
       "    .dataframe tbody tr th:only-of-type {\n",
       "        vertical-align: middle;\n",
       "    }\n",
       "\n",
       "    .dataframe tbody tr th {\n",
       "        vertical-align: top;\n",
       "    }\n",
       "\n",
       "    .dataframe thead th {\n",
       "        text-align: right;\n",
       "    }\n",
       "</style>\n",
       "<table border=\"1\" class=\"dataframe\">\n",
       "  <thead>\n",
       "    <tr style=\"text-align: right;\">\n",
       "      <th></th>\n",
       "      <th>Average_avg-Temp</th>\n",
       "      <th>Average-Min Temp</th>\n",
       "      <th>Average-max-temp</th>\n",
       "      <th>avg-precipitation</th>\n",
       "      <th>avg-windSpeed</th>\n",
       "      <th>pH</th>\n",
       "      <th>Clay</th>\n",
       "      <th>Sand</th>\n",
       "      <th>Silt</th>\n",
       "      <th>Crop Yield</th>\n",
       "      <th>...</th>\n",
       "      <th>State_Kebbi</th>\n",
       "      <th>State_Kwara</th>\n",
       "      <th>State_Lagos</th>\n",
       "      <th>State_Ogun</th>\n",
       "      <th>State_Ondo</th>\n",
       "      <th>State_Osun</th>\n",
       "      <th>State_Oyo</th>\n",
       "      <th>State_Plateau</th>\n",
       "      <th>State_Rivers</th>\n",
       "      <th>State_Taraba</th>\n",
       "    </tr>\n",
       "  </thead>\n",
       "  <tbody>\n",
       "    <tr>\n",
       "      <th>0</th>\n",
       "      <td>21.258682</td>\n",
       "      <td>15.489182</td>\n",
       "      <td>27.028740</td>\n",
       "      <td>107.791667</td>\n",
       "      <td>2.258682</td>\n",
       "      <td>5.833333</td>\n",
       "      <td>29.500000</td>\n",
       "      <td>43.166667</td>\n",
       "      <td>25.833333</td>\n",
       "      <td>2.603023</td>\n",
       "      <td>...</td>\n",
       "      <td>0</td>\n",
       "      <td>0</td>\n",
       "      <td>0</td>\n",
       "      <td>0</td>\n",
       "      <td>0</td>\n",
       "      <td>0</td>\n",
       "      <td>0</td>\n",
       "      <td>1</td>\n",
       "      <td>0</td>\n",
       "      <td>0</td>\n",
       "    </tr>\n",
       "    <tr>\n",
       "      <th>1</th>\n",
       "      <td>21.287979</td>\n",
       "      <td>15.765146</td>\n",
       "      <td>26.809448</td>\n",
       "      <td>136.270833</td>\n",
       "      <td>1.733292</td>\n",
       "      <td>5.400000</td>\n",
       "      <td>37.833333</td>\n",
       "      <td>35.833333</td>\n",
       "      <td>25.000000</td>\n",
       "      <td>2.389935</td>\n",
       "      <td>...</td>\n",
       "      <td>0</td>\n",
       "      <td>0</td>\n",
       "      <td>0</td>\n",
       "      <td>0</td>\n",
       "      <td>0</td>\n",
       "      <td>0</td>\n",
       "      <td>0</td>\n",
       "      <td>0</td>\n",
       "      <td>0</td>\n",
       "      <td>1</td>\n",
       "    </tr>\n",
       "    <tr>\n",
       "      <th>2</th>\n",
       "      <td>21.341573</td>\n",
       "      <td>16.420537</td>\n",
       "      <td>27.247260</td>\n",
       "      <td>103.395833</td>\n",
       "      <td>2.258510</td>\n",
       "      <td>6.200000</td>\n",
       "      <td>27.500000</td>\n",
       "      <td>44.500000</td>\n",
       "      <td>29.333333</td>\n",
       "      <td>2.603023</td>\n",
       "      <td>...</td>\n",
       "      <td>0</td>\n",
       "      <td>0</td>\n",
       "      <td>0</td>\n",
       "      <td>0</td>\n",
       "      <td>0</td>\n",
       "      <td>0</td>\n",
       "      <td>0</td>\n",
       "      <td>1</td>\n",
       "      <td>0</td>\n",
       "      <td>0</td>\n",
       "    </tr>\n",
       "    <tr>\n",
       "      <th>3</th>\n",
       "      <td>21.474099</td>\n",
       "      <td>15.814495</td>\n",
       "      <td>27.124927</td>\n",
       "      <td>111.145833</td>\n",
       "      <td>2.237911</td>\n",
       "      <td>5.300000</td>\n",
       "      <td>30.833333</td>\n",
       "      <td>43.666667</td>\n",
       "      <td>23.833333</td>\n",
       "      <td>2.603023</td>\n",
       "      <td>...</td>\n",
       "      <td>0</td>\n",
       "      <td>0</td>\n",
       "      <td>0</td>\n",
       "      <td>0</td>\n",
       "      <td>0</td>\n",
       "      <td>0</td>\n",
       "      <td>0</td>\n",
       "      <td>1</td>\n",
       "      <td>0</td>\n",
       "      <td>0</td>\n",
       "    </tr>\n",
       "    <tr>\n",
       "      <th>4</th>\n",
       "      <td>21.523187</td>\n",
       "      <td>15.900604</td>\n",
       "      <td>27.139937</td>\n",
       "      <td>101.750000</td>\n",
       "      <td>2.405010</td>\n",
       "      <td>5.850000</td>\n",
       "      <td>30.000000</td>\n",
       "      <td>48.166667</td>\n",
       "      <td>23.833333</td>\n",
       "      <td>2.603023</td>\n",
       "      <td>...</td>\n",
       "      <td>0</td>\n",
       "      <td>0</td>\n",
       "      <td>0</td>\n",
       "      <td>0</td>\n",
       "      <td>0</td>\n",
       "      <td>0</td>\n",
       "      <td>0</td>\n",
       "      <td>1</td>\n",
       "      <td>0</td>\n",
       "      <td>0</td>\n",
       "    </tr>\n",
       "  </tbody>\n",
       "</table>\n",
       "<p>5 rows × 34 columns</p>\n",
       "</div>"
      ],
      "text/plain": [
       "   Average_avg-Temp  Average-Min Temp  Average-max-temp  avg-precipitation  \\\n",
       "0         21.258682         15.489182         27.028740         107.791667   \n",
       "1         21.287979         15.765146         26.809448         136.270833   \n",
       "2         21.341573         16.420537         27.247260         103.395833   \n",
       "3         21.474099         15.814495         27.124927         111.145833   \n",
       "4         21.523187         15.900604         27.139937         101.750000   \n",
       "\n",
       "   avg-windSpeed        pH       Clay       Sand       Silt  Crop Yield  ...  \\\n",
       "0       2.258682  5.833333  29.500000  43.166667  25.833333    2.603023  ...   \n",
       "1       1.733292  5.400000  37.833333  35.833333  25.000000    2.389935  ...   \n",
       "2       2.258510  6.200000  27.500000  44.500000  29.333333    2.603023  ...   \n",
       "3       2.237911  5.300000  30.833333  43.666667  23.833333    2.603023  ...   \n",
       "4       2.405010  5.850000  30.000000  48.166667  23.833333    2.603023  ...   \n",
       "\n",
       "   State_Kebbi  State_Kwara  State_Lagos  State_Ogun  State_Ondo  State_Osun  \\\n",
       "0            0            0            0           0           0           0   \n",
       "1            0            0            0           0           0           0   \n",
       "2            0            0            0           0           0           0   \n",
       "3            0            0            0           0           0           0   \n",
       "4            0            0            0           0           0           0   \n",
       "\n",
       "   State_Oyo  State_Plateau  State_Rivers  State_Taraba  \n",
       "0          0              1             0             0  \n",
       "1          0              0             0             1  \n",
       "2          0              1             0             0  \n",
       "3          0              1             0             0  \n",
       "4          0              1             0             0  \n",
       "\n",
       "[5 rows x 34 columns]"
      ]
     },
     "execution_count": 7,
     "metadata": {},
     "output_type": "execute_result"
    }
   ],
   "source": [
    "# One-hot encode categorical features\n",
    "features = pd.get_dummies(features)\n",
    "features.replace({False: 0, True: 1}, inplace=True)\n",
    "features.head(5)"
   ]
  },
  {
   "cell_type": "code",
   "execution_count": 8,
   "id": "f7e9ddc0",
   "metadata": {},
   "outputs": [
    {
     "data": {
      "text/html": [
       "<div>\n",
       "<style scoped>\n",
       "    .dataframe tbody tr th:only-of-type {\n",
       "        vertical-align: middle;\n",
       "    }\n",
       "\n",
       "    .dataframe tbody tr th {\n",
       "        vertical-align: top;\n",
       "    }\n",
       "\n",
       "    .dataframe thead th {\n",
       "        text-align: right;\n",
       "    }\n",
       "</style>\n",
       "<table border=\"1\" class=\"dataframe\">\n",
       "  <thead>\n",
       "    <tr style=\"text-align: right;\">\n",
       "      <th></th>\n",
       "      <th>Average_avg-Temp</th>\n",
       "      <th>Average-Min Temp</th>\n",
       "      <th>Average-max-temp</th>\n",
       "      <th>avg-precipitation</th>\n",
       "      <th>avg-windSpeed</th>\n",
       "      <th>pH</th>\n",
       "      <th>Clay</th>\n",
       "      <th>Sand</th>\n",
       "      <th>Silt</th>\n",
       "      <th>Crop Yield</th>\n",
       "      <th>...</th>\n",
       "      <th>State_Kebbi</th>\n",
       "      <th>State_Kwara</th>\n",
       "      <th>State_Lagos</th>\n",
       "      <th>State_Ogun</th>\n",
       "      <th>State_Ondo</th>\n",
       "      <th>State_Osun</th>\n",
       "      <th>State_Oyo</th>\n",
       "      <th>State_Plateau</th>\n",
       "      <th>State_Rivers</th>\n",
       "      <th>State_Taraba</th>\n",
       "    </tr>\n",
       "  </thead>\n",
       "  <tbody>\n",
       "    <tr>\n",
       "      <th>0</th>\n",
       "      <td>21.258682</td>\n",
       "      <td>15.489182</td>\n",
       "      <td>27.028740</td>\n",
       "      <td>107.791667</td>\n",
       "      <td>2.258682</td>\n",
       "      <td>5.833333</td>\n",
       "      <td>29.500000</td>\n",
       "      <td>43.166667</td>\n",
       "      <td>25.833333</td>\n",
       "      <td>2.603023</td>\n",
       "      <td>...</td>\n",
       "      <td>0</td>\n",
       "      <td>0</td>\n",
       "      <td>0</td>\n",
       "      <td>0</td>\n",
       "      <td>0</td>\n",
       "      <td>0</td>\n",
       "      <td>0</td>\n",
       "      <td>1</td>\n",
       "      <td>0</td>\n",
       "      <td>0</td>\n",
       "    </tr>\n",
       "    <tr>\n",
       "      <th>1</th>\n",
       "      <td>21.287979</td>\n",
       "      <td>15.765146</td>\n",
       "      <td>26.809448</td>\n",
       "      <td>136.270833</td>\n",
       "      <td>1.733292</td>\n",
       "      <td>5.400000</td>\n",
       "      <td>37.833333</td>\n",
       "      <td>35.833333</td>\n",
       "      <td>25.000000</td>\n",
       "      <td>2.389935</td>\n",
       "      <td>...</td>\n",
       "      <td>0</td>\n",
       "      <td>0</td>\n",
       "      <td>0</td>\n",
       "      <td>0</td>\n",
       "      <td>0</td>\n",
       "      <td>0</td>\n",
       "      <td>0</td>\n",
       "      <td>0</td>\n",
       "      <td>0</td>\n",
       "      <td>1</td>\n",
       "    </tr>\n",
       "    <tr>\n",
       "      <th>2</th>\n",
       "      <td>21.341573</td>\n",
       "      <td>16.420537</td>\n",
       "      <td>27.247260</td>\n",
       "      <td>103.395833</td>\n",
       "      <td>2.258510</td>\n",
       "      <td>6.200000</td>\n",
       "      <td>27.500000</td>\n",
       "      <td>44.500000</td>\n",
       "      <td>29.333333</td>\n",
       "      <td>2.603023</td>\n",
       "      <td>...</td>\n",
       "      <td>0</td>\n",
       "      <td>0</td>\n",
       "      <td>0</td>\n",
       "      <td>0</td>\n",
       "      <td>0</td>\n",
       "      <td>0</td>\n",
       "      <td>0</td>\n",
       "      <td>1</td>\n",
       "      <td>0</td>\n",
       "      <td>0</td>\n",
       "    </tr>\n",
       "    <tr>\n",
       "      <th>3</th>\n",
       "      <td>21.474099</td>\n",
       "      <td>15.814495</td>\n",
       "      <td>27.124927</td>\n",
       "      <td>111.145833</td>\n",
       "      <td>2.237911</td>\n",
       "      <td>5.300000</td>\n",
       "      <td>30.833333</td>\n",
       "      <td>43.666667</td>\n",
       "      <td>23.833333</td>\n",
       "      <td>2.603023</td>\n",
       "      <td>...</td>\n",
       "      <td>0</td>\n",
       "      <td>0</td>\n",
       "      <td>0</td>\n",
       "      <td>0</td>\n",
       "      <td>0</td>\n",
       "      <td>0</td>\n",
       "      <td>0</td>\n",
       "      <td>1</td>\n",
       "      <td>0</td>\n",
       "      <td>0</td>\n",
       "    </tr>\n",
       "    <tr>\n",
       "      <th>4</th>\n",
       "      <td>21.523187</td>\n",
       "      <td>15.900604</td>\n",
       "      <td>27.139937</td>\n",
       "      <td>101.750000</td>\n",
       "      <td>2.405010</td>\n",
       "      <td>5.850000</td>\n",
       "      <td>30.000000</td>\n",
       "      <td>48.166667</td>\n",
       "      <td>23.833333</td>\n",
       "      <td>2.603023</td>\n",
       "      <td>...</td>\n",
       "      <td>0</td>\n",
       "      <td>0</td>\n",
       "      <td>0</td>\n",
       "      <td>0</td>\n",
       "      <td>0</td>\n",
       "      <td>0</td>\n",
       "      <td>0</td>\n",
       "      <td>1</td>\n",
       "      <td>0</td>\n",
       "      <td>0</td>\n",
       "    </tr>\n",
       "  </tbody>\n",
       "</table>\n",
       "<p>5 rows × 34 columns</p>\n",
       "</div>"
      ],
      "text/plain": [
       "   Average_avg-Temp  Average-Min Temp  Average-max-temp  avg-precipitation  \\\n",
       "0         21.258682         15.489182         27.028740         107.791667   \n",
       "1         21.287979         15.765146         26.809448         136.270833   \n",
       "2         21.341573         16.420537         27.247260         103.395833   \n",
       "3         21.474099         15.814495         27.124927         111.145833   \n",
       "4         21.523187         15.900604         27.139937         101.750000   \n",
       "\n",
       "   avg-windSpeed        pH       Clay       Sand       Silt  Crop Yield  ...  \\\n",
       "0       2.258682  5.833333  29.500000  43.166667  25.833333    2.603023  ...   \n",
       "1       1.733292  5.400000  37.833333  35.833333  25.000000    2.389935  ...   \n",
       "2       2.258510  6.200000  27.500000  44.500000  29.333333    2.603023  ...   \n",
       "3       2.237911  5.300000  30.833333  43.666667  23.833333    2.603023  ...   \n",
       "4       2.405010  5.850000  30.000000  48.166667  23.833333    2.603023  ...   \n",
       "\n",
       "   State_Kebbi  State_Kwara  State_Lagos  State_Ogun  State_Ondo  State_Osun  \\\n",
       "0            0            0            0           0           0           0   \n",
       "1            0            0            0           0           0           0   \n",
       "2            0            0            0           0           0           0   \n",
       "3            0            0            0           0           0           0   \n",
       "4            0            0            0           0           0           0   \n",
       "\n",
       "   State_Oyo  State_Plateau  State_Rivers  State_Taraba  \n",
       "0          0              1             0             0  \n",
       "1          0              0             0             1  \n",
       "2          0              1             0             0  \n",
       "3          0              1             0             0  \n",
       "4          0              1             0             0  \n",
       "\n",
       "[5 rows x 34 columns]"
      ]
     },
     "execution_count": 8,
     "metadata": {},
     "output_type": "execute_result"
    }
   ],
   "source": [
    "features2 = features.drop_duplicates()\n",
    "features2.head(5)"
   ]
  },
  {
   "cell_type": "code",
   "execution_count": 11,
   "id": "4df4c961",
   "metadata": {
    "id": "4df4c961"
   },
   "outputs": [],
   "source": [
    "# Drop duplicate rows\n",
    "features2 = features.drop_duplicates()\n",
    "#Drop features not included after feature selection\n",
    "\n",
    "features2= features2.drop(['Average_avg-Temp', 'Average-max-temp', 'Clay'], axis = 1)\n",
    "# Use numpy to convert to arrays\n",
    "import numpy as np\n",
    "\n",
    "# Labels are the values we want to predict\n",
    "labels = np.array(features2['Crop Yield'])\n",
    "\n",
    "# Remove the labels from the features\n",
    "# axis 1 refers to the columns\n",
    "data= features2.drop('Crop Yield', axis = 1)\n",
    "\n",
    "# Saving feature names for later use\n",
    "data_list = list(data.columns)\n",
    "\n",
    "# Convert to numpy array\n",
    "data = np.array(data)"
   ]
  },
  {
   "cell_type": "markdown",
   "id": "5ad35c12",
   "metadata": {},
   "source": [
    "#### Data Split"
   ]
  },
  {
   "cell_type": "code",
   "execution_count": 12,
   "id": "3a8b6f00",
   "metadata": {
    "colab": {
     "base_uri": "https://localhost:8080/"
    },
    "executionInfo": {
     "elapsed": 330,
     "status": "ok",
     "timestamp": 1633231393743,
     "user": {
      "displayName": "Chollette Olisah",
      "photoUrl": "https://lh3.googleusercontent.com/a/default-user=s64",
      "userId": "06699216493296651242"
     },
     "user_tz": -60
    },
    "id": "3a8b6f00",
    "outputId": "99f36c9d-b095-4139-97e0-55b12ae74f9a"
   },
   "outputs": [
    {
     "name": "stdout",
     "output_type": "stream",
     "text": [
      "Training Features Shape: (1142, 30)\n",
      "Training Labels Shape: (1142,)\n",
      "Testing Features Shape: (245, 30)\n",
      "Testing Labels Shape: (245,)\n",
      "Validation Features Shape: (245, 30)\n",
      "Validation Label Shape: (245,)\n"
     ]
    }
   ],
   "source": [
    "# Split the data into training, validation, and testing sets\n",
    "train_features, val_test_features, train_labels, val_test_labels = train_test_split(data, labels, test_size = 0.3,\n",
    "                                                                           shuffle= True, random_state = 0)\n",
    "X_val, X_test, Y_val, Y_test = train_test_split(val_test_features, val_test_labels, test_size=0.5)\n",
    "print('Training Features Shape:', train_features.shape)\n",
    "print('Training Labels Shape:', train_labels.shape)\n",
    "print('Testing Features Shape:', X_test.shape)\n",
    "print('Testing Labels Shape:', Y_test.shape)\n",
    "print('Validation Features Shape:', X_val.shape)\n",
    "print('Validation Label Shape:', Y_val.shape)"
   ]
  },
  {
   "cell_type": "markdown",
   "id": "5ca5fd57",
   "metadata": {},
   "source": [
    "#### Model"
   ]
  },
  {
   "cell_type": "code",
   "execution_count": 104,
   "id": "fee92d0a",
   "metadata": {
    "colab": {
     "base_uri": "https://localhost:8080/"
    },
    "executionInfo": {
     "elapsed": 22880,
     "status": "ok",
     "timestamp": 1633231440143,
     "user": {
      "displayName": "Chollette Olisah",
      "photoUrl": "https://lh3.googleusercontent.com/a/default-user=s64",
      "userId": "06699216493296651242"
     },
     "user_tz": -60
    },
    "id": "fee92d0a",
    "outputId": "7800d65b-8d46-4daa-a72f-569f975ba0b5"
   },
   "outputs": [
    {
     "data": {
      "text/html": [
       "<style>#sk-container-id-35 {color: black;background-color: white;}#sk-container-id-35 pre{padding: 0;}#sk-container-id-35 div.sk-toggleable {background-color: white;}#sk-container-id-35 label.sk-toggleable__label {cursor: pointer;display: block;width: 100%;margin-bottom: 0;padding: 0.3em;box-sizing: border-box;text-align: center;}#sk-container-id-35 label.sk-toggleable__label-arrow:before {content: \"▸\";float: left;margin-right: 0.25em;color: #696969;}#sk-container-id-35 label.sk-toggleable__label-arrow:hover:before {color: black;}#sk-container-id-35 div.sk-estimator:hover label.sk-toggleable__label-arrow:before {color: black;}#sk-container-id-35 div.sk-toggleable__content {max-height: 0;max-width: 0;overflow: hidden;text-align: left;background-color: #f0f8ff;}#sk-container-id-35 div.sk-toggleable__content pre {margin: 0.2em;color: black;border-radius: 0.25em;background-color: #f0f8ff;}#sk-container-id-35 input.sk-toggleable__control:checked~div.sk-toggleable__content {max-height: 200px;max-width: 100%;overflow: auto;}#sk-container-id-35 input.sk-toggleable__control:checked~label.sk-toggleable__label-arrow:before {content: \"▾\";}#sk-container-id-35 div.sk-estimator input.sk-toggleable__control:checked~label.sk-toggleable__label {background-color: #d4ebff;}#sk-container-id-35 div.sk-label input.sk-toggleable__control:checked~label.sk-toggleable__label {background-color: #d4ebff;}#sk-container-id-35 input.sk-hidden--visually {border: 0;clip: rect(1px 1px 1px 1px);clip: rect(1px, 1px, 1px, 1px);height: 1px;margin: -1px;overflow: hidden;padding: 0;position: absolute;width: 1px;}#sk-container-id-35 div.sk-estimator {font-family: monospace;background-color: #f0f8ff;border: 1px dotted black;border-radius: 0.25em;box-sizing: border-box;margin-bottom: 0.5em;}#sk-container-id-35 div.sk-estimator:hover {background-color: #d4ebff;}#sk-container-id-35 div.sk-parallel-item::after {content: \"\";width: 100%;border-bottom: 1px solid gray;flex-grow: 1;}#sk-container-id-35 div.sk-label:hover label.sk-toggleable__label {background-color: #d4ebff;}#sk-container-id-35 div.sk-serial::before {content: \"\";position: absolute;border-left: 1px solid gray;box-sizing: border-box;top: 0;bottom: 0;left: 50%;z-index: 0;}#sk-container-id-35 div.sk-serial {display: flex;flex-direction: column;align-items: center;background-color: white;padding-right: 0.2em;padding-left: 0.2em;position: relative;}#sk-container-id-35 div.sk-item {position: relative;z-index: 1;}#sk-container-id-35 div.sk-parallel {display: flex;align-items: stretch;justify-content: center;background-color: white;position: relative;}#sk-container-id-35 div.sk-item::before, #sk-container-id-35 div.sk-parallel-item::before {content: \"\";position: absolute;border-left: 1px solid gray;box-sizing: border-box;top: 0;bottom: 0;left: 50%;z-index: -1;}#sk-container-id-35 div.sk-parallel-item {display: flex;flex-direction: column;z-index: 1;position: relative;background-color: white;}#sk-container-id-35 div.sk-parallel-item:first-child::after {align-self: flex-end;width: 50%;}#sk-container-id-35 div.sk-parallel-item:last-child::after {align-self: flex-start;width: 50%;}#sk-container-id-35 div.sk-parallel-item:only-child::after {width: 0;}#sk-container-id-35 div.sk-dashed-wrapped {border: 1px dashed gray;margin: 0 0.4em 0.5em 0.4em;box-sizing: border-box;padding-bottom: 0.4em;background-color: white;}#sk-container-id-35 div.sk-label label {font-family: monospace;font-weight: bold;display: inline-block;line-height: 1.2em;}#sk-container-id-35 div.sk-label-container {text-align: center;}#sk-container-id-35 div.sk-container {/* jupyter's `normalize.less` sets `[hidden] { display: none; }` but bootstrap.min.css set `[hidden] { display: none !important; }` so we also need the `!important` here to be able to override the default hidden behavior on the sphinx rendered scikit-learn.org. See: https://github.com/scikit-learn/scikit-learn/issues/21755 */display: inline-block !important;position: relative;}#sk-container-id-35 div.sk-text-repr-fallback {display: none;}</style><div id=\"sk-container-id-35\" class=\"sk-top-container\"><div class=\"sk-text-repr-fallback\"><pre>XGBRegressor(base_score=None, booster=None, callbacks=None,\n",
       "             colsample_bylevel=None, colsample_bynode=None,\n",
       "             colsample_bytree=None, device=None, early_stopping_rounds=None,\n",
       "             enable_categorical=False, eval_metric=None, feature_types=None,\n",
       "             gamma=None, grow_policy=None, importance_type=None,\n",
       "             interaction_constraints=None, learning_rate=0.1, max_bin=None,\n",
       "             max_cat_threshold=None, max_cat_to_onehot=None,\n",
       "             max_delta_step=None, max_depth=10, max_leaves=None,\n",
       "             min_child_weight=None, missing=nan, monotone_constraints=None,\n",
       "             multi_strategy=None, n_estimators=900, n_jobs=None,\n",
       "             num_parallel_tree=None, random_state=None, ...)</pre><b>In a Jupyter environment, please rerun this cell to show the HTML representation or trust the notebook. <br />On GitHub, the HTML representation is unable to render, please try loading this page with nbviewer.org.</b></div><div class=\"sk-container\" hidden><div class=\"sk-item\"><div class=\"sk-estimator sk-toggleable\"><input class=\"sk-toggleable__control sk-hidden--visually\" id=\"sk-estimator-id-37\" type=\"checkbox\" checked><label for=\"sk-estimator-id-37\" class=\"sk-toggleable__label sk-toggleable__label-arrow\">XGBRegressor</label><div class=\"sk-toggleable__content\"><pre>XGBRegressor(base_score=None, booster=None, callbacks=None,\n",
       "             colsample_bylevel=None, colsample_bynode=None,\n",
       "             colsample_bytree=None, device=None, early_stopping_rounds=None,\n",
       "             enable_categorical=False, eval_metric=None, feature_types=None,\n",
       "             gamma=None, grow_policy=None, importance_type=None,\n",
       "             interaction_constraints=None, learning_rate=0.1, max_bin=None,\n",
       "             max_cat_threshold=None, max_cat_to_onehot=None,\n",
       "             max_delta_step=None, max_depth=10, max_leaves=None,\n",
       "             min_child_weight=None, missing=nan, monotone_constraints=None,\n",
       "             multi_strategy=None, n_estimators=900, n_jobs=None,\n",
       "             num_parallel_tree=None, random_state=None, ...)</pre></div></div></div></div></div>"
      ],
      "text/plain": [
       "XGBRegressor(base_score=None, booster=None, callbacks=None,\n",
       "             colsample_bylevel=None, colsample_bynode=None,\n",
       "             colsample_bytree=None, device=None, early_stopping_rounds=None,\n",
       "             enable_categorical=False, eval_metric=None, feature_types=None,\n",
       "             gamma=None, grow_policy=None, importance_type=None,\n",
       "             interaction_constraints=None, learning_rate=0.1, max_bin=None,\n",
       "             max_cat_threshold=None, max_cat_to_onehot=None,\n",
       "             max_delta_step=None, max_depth=10, max_leaves=None,\n",
       "             min_child_weight=None, missing=nan, monotone_constraints=None,\n",
       "             multi_strategy=None, n_estimators=900, n_jobs=None,\n",
       "             num_parallel_tree=None, random_state=None, ...)"
      ]
     },
     "execution_count": 104,
     "metadata": {},
     "output_type": "execute_result"
    }
   ],
   "source": [
    "# RF Regression Model model \n",
    "model = XGBRegressor(max_depth = 10, subsample=1, n_estimators = 900,learning_rate=0.1)\n",
    "model.fit(train_features, train_labels)"
   ]
  },
  {
   "cell_type": "code",
   "execution_count": 105,
   "id": "89f47dca",
   "metadata": {},
   "outputs": [
    {
     "name": "stdout",
     "output_type": "stream",
     "text": [
      "Mean MAE: 0.008391 (0.009020)\n"
     ]
    }
   ],
   "source": [
    "# evaluate an xgboost regression model\n",
    "cv = RepeatedKFold(n_splits=10, n_repeats=3, random_state=1)\n",
    "scores = cross_val_score(model, X_test, Y_test, scoring='neg_mean_absolute_error', cv=cv, n_jobs=-1)\n",
    "# force scores to be positive\n",
    "scores = absolute(scores)\n",
    "print('Mean MAE: %.6f (%.6f)' % (scores.mean(), scores.std()) )"
   ]
  },
  {
   "cell_type": "code",
   "execution_count": 106,
   "id": "6007184f",
   "metadata": {},
   "outputs": [],
   "source": [
    "# Use the forest's predict method on the test data\n",
    "predictions = model.predict(X_test)\n"
   ]
  },
  {
   "cell_type": "code",
   "execution_count": 107,
   "id": "d421348b",
   "metadata": {
    "colab": {
     "base_uri": "https://localhost:8080/"
    },
    "executionInfo": {
     "elapsed": 339,
     "status": "ok",
     "timestamp": 1633231455299,
     "user": {
      "displayName": "Chollette Olisah",
      "photoUrl": "https://lh3.googleusercontent.com/a/default-user=s64",
      "userId": "06699216493296651242"
     },
     "user_tz": -60
    },
    "id": "d421348b",
    "outputId": "1c60849b-5848-403f-fcdc-6d6a8e9ebcb1"
   },
   "outputs": [
    {
     "name": "stdout",
     "output_type": "stream",
     "text": [
      "Mean Squared Error (MSE):  3.391448662987479e-05\n"
     ]
    }
   ],
   "source": [
    "from sklearn.metrics import mean_squared_error\n",
    "# Mean Squared Error (MSE)\n",
    "mse = mean_squared_error(Y_test, predictions)\n",
    "print('Mean Squared Error (MSE): ', mse)"
   ]
  },
  {
   "cell_type": "code",
   "execution_count": 112,
   "id": "f7589adc",
   "metadata": {},
   "outputs": [
    {
     "name": "stdout",
     "output_type": "stream",
     "text": [
      "Root Mean Absolute Error: 0.005823614567420718 degrees.\n"
     ]
    }
   ],
   "source": [
    "from math import sqrt\n",
    "rmse = sqrt(mse)\n",
    "print('Root Mean Absolute Error:', rmse, 'degrees.')"
   ]
  },
  {
   "cell_type": "code",
   "execution_count": 108,
   "id": "93793065",
   "metadata": {},
   "outputs": [
    {
     "name": "stdout",
     "output_type": "stream",
     "text": [
      "mean absolute percentage error (MAPE):  0.0010763127768356965\n"
     ]
    }
   ],
   "source": [
    "from sklearn.metrics import mean_absolute_percentage_error\n",
    "# Mean Squared Error (MSE)\n",
    "mape = mean_absolute_percentage_error(Y_test, predictions)\n",
    "print('mean absolute percentage error (MAPE): ', mape)"
   ]
  },
  {
   "cell_type": "code",
   "execution_count": 109,
   "id": "7c5bdddf",
   "metadata": {},
   "outputs": [
    {
     "name": "stdout",
     "output_type": "stream",
     "text": [
      "Mean Absolute Error (MAE):  0.00043220376695762613\n"
     ]
    }
   ],
   "source": [
    "from sklearn.metrics import mean_absolute_error\n",
    "mae = mean_absolute_error(Y_test, predictions)\n",
    "print('Mean Absolute Error (MAE): ', mae)"
   ]
  },
  {
   "cell_type": "markdown",
   "id": "2a12ebf7",
   "metadata": {},
   "source": [
    "#### Save Model"
   ]
  },
  {
   "cell_type": "code",
   "execution_count": 21,
   "id": "62ea9dda",
   "metadata": {
    "id": "62ea9dda"
   },
   "outputs": [],
   "source": [
    "import pickle\n",
    "filename = 'XG_model.dat'\n",
    "pickle.dump(model, open(filename, \"wb\"))\n"
   ]
  },
  {
   "cell_type": "code",
   "execution_count": 11,
   "id": "b1392286",
   "metadata": {},
   "outputs": [],
   "source": [
    "import pickle\n",
    "model = pickle.load(open(\"XG_model.dat\", \"rb\"))"
   ]
  },
  {
   "cell_type": "markdown",
   "id": "7652bb11",
   "metadata": {},
   "source": [
    "#### Testing"
   ]
  },
  {
   "cell_type": "markdown",
   "id": "a90c7e3e",
   "metadata": {},
   "source": [
    "#### Generalisation to unseen set"
   ]
  },
  {
   "cell_type": "code",
   "execution_count": 26,
   "id": "3aea322c",
   "metadata": {},
   "outputs": [],
   "source": [
    "tt = np.array(X_test.reshape(245,30))\n",
    "pred = model.predict(tt)\n",
    "pred = pd.DataFrame(pred)\n",
    "yact = pd.DataFrame(Y_test)\n",
    "all = pd.concat([pred, yact], axis=1)\n",
    "\n",
    "\n",
    "all.columns = [\"y_pred\", \"y_actual\"]\n",
    "all.to_csv('predictedXG&actual.csv')"
   ]
  },
  {
   "cell_type": "markdown",
   "id": "7e21c8fa",
   "metadata": {},
   "source": [
    "#### Generalisation to Unforeseen set"
   ]
  },
  {
   "cell_type": "markdown",
   "id": "39141af7",
   "metadata": {},
   "source": [
    "###### Change to precipitation"
   ]
  },
  {
   "cell_type": "code",
   "execution_count": 12,
   "id": "c32ec408",
   "metadata": {},
   "outputs": [
    {
     "data": {
      "text/plain": [
       "array([0.7093763], dtype=float32)"
      ]
     },
     "execution_count": 12,
     "metadata": {},
     "output_type": "execute_result"
    }
   ],
   "source": [
    "tf = np.array([ 21.69209,   13.52083,     1.4988489,   5.4666667,  59.833332,   10.166667,   0.5454889,   0. ,         0.,          0.,          0.,          0.,   0.,          0.,          0.,          0.,          0.,          0.,1.,          0.,          0.,          0.,          0.,          0.,  0.,          0.,          0.,          0.,          0. ,         0. ])\n",
    "model.predict(np.array(tf).reshape(1,30))"
   ]
  },
  {
   "cell_type": "code",
   "execution_count": 15,
   "id": "98b66e3a",
   "metadata": {},
   "outputs": [
    {
     "data": {
      "text/plain": [
       "array([2.6028855], dtype=float32)"
      ]
     },
     "execution_count": 15,
     "metadata": {},
     "output_type": "execute_result"
    }
   ],
   "source": [
    "tf2 = np.array([16.685463 , 9.125 ,     2.417177,   5.5666666 ,35.5   ,    27.333334,  1.6867675,  0.  ,       0.    ,     0. ,        0.         ,0.,  0.  ,       0.   ,      0.   ,      0.   ,      0.   ,      0.,  0.  ,       0.   ,      0.    ,     0.    ,     0.    ,     0.,  0.   ,      0.   ,      0.  ,       1.    ,     0.  ,       0.       ])\n",
    "model.predict(np.array(tf2).reshape(1,30))"
   ]
  },
  {
   "cell_type": "markdown",
   "id": "d8fb82ee",
   "metadata": {},
   "source": [
    "###### change silt"
   ]
  },
  {
   "cell_type": "code",
   "execution_count": 14,
   "id": "7606c571",
   "metadata": {},
   "outputs": [
    {
     "data": {
      "text/plain": [
       "array([0.7093763], dtype=float32)"
      ]
     },
     "execution_count": 14,
     "metadata": {},
     "output_type": "execute_result"
    }
   ],
   "source": [
    "tf = np.array([ 21.69209,   133.52083,     1.4988489,   5.4666667,  59.833332,   29.166667,   0.5454889,   0. ,         0.,          0.,          0.,          0.,   0.,          0.,          0.,          0.,          0.,          0.,1.,          0.,          0.,          0.,          0.,          0.,  0.,          0.,          0.,          0.,          0. ,         0. ])\n",
    "model.predict(np.array(tf).reshape(1,30))"
   ]
  },
  {
   "cell_type": "code",
   "execution_count": 16,
   "id": "59bb035c",
   "metadata": {},
   "outputs": [
    {
     "data": {
      "text/plain": [
       "array([2.6028855], dtype=float32)"
      ]
     },
     "execution_count": 16,
     "metadata": {},
     "output_type": "execute_result"
    }
   ],
   "source": [
    "tf2 = np.array([16.685463 , 99.125 ,     2.417177,   5.5666666 ,35.5   ,    50.333334,  1.6867675,  0.  ,       0.    ,     0. ,        0.         ,0.,  0.  ,       0.   ,      0.   ,      0.   ,      0.   ,      0.,  0.  ,       0.   ,      0.    ,     0.    ,     0.    ,     0.,  0.   ,      0.   ,      0.  ,       1.    ,     0.  ,       0.       ])\n",
    "model.predict(np.array(tf2).reshape(1,30))"
   ]
  },
  {
   "cell_type": "code",
   "execution_count": null,
   "id": "a56cd42d",
   "metadata": {},
   "outputs": [],
   "source": []
  }
 ],
 "metadata": {
  "colab": {
   "name": "XGBoost.ipynb",
   "provenance": []
  },
  "kernelspec": {
   "display_name": "Python 3 (ipykernel)",
   "language": "python",
   "name": "python3"
  },
  "language_info": {
   "codemirror_mode": {
    "name": "ipython",
    "version": 3
   },
   "file_extension": ".py",
   "mimetype": "text/x-python",
   "name": "python",
   "nbconvert_exporter": "python",
   "pygments_lexer": "ipython3",
   "version": "3.10.9"
  }
 },
 "nbformat": 4,
 "nbformat_minor": 5
}
