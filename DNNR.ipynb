{
 "cells": [
  {
   "cell_type": "markdown",
   "metadata": {
    "colab": {
     "base_uri": "https://localhost:8080/"
    },
    "executionInfo": {
     "elapsed": 6188,
     "status": "ok",
     "timestamp": 1645088522991,
     "user": {
      "displayName": "Chollette Olisah",
      "photoUrl": "https://lh3.googleusercontent.com/a/default-user=s64",
      "userId": "06699216493296651242"
     },
     "user_tz": -60
    },
    "id": "PetSD0sotuqk",
    "outputId": "3de0c259-bbf6-49d1-94c7-bee35f3b2385"
   },
   "source": [
    "## Import Libraries"
   ]
  },
  {
   "cell_type": "code",
   "execution_count": 4,
   "metadata": {},
   "outputs": [],
   "source": [
    "import math\n",
    "import numpy as np\n",
    "import pandas as pd\n",
    "import tensorflow as tf\n",
    "from tensorflow import keras\n",
    "import matplotlib.pyplot as plt\n",
    "from tensorflow.keras import layers\n",
    "from tensorflow.keras.layers import Dense\n",
    "from tensorflow.keras.models import Sequential\n",
    "from sklearn.preprocessing import MinMaxScaler\n",
    "from sklearn.preprocessing import LabelEncoder\n",
    "from sklearn.model_selection import train_test_split\n",
    "from tensorflow.keras.callbacks import EarlyStopping\n",
    "#from tensorflow.keras.layers.experimental import preprocessing\n"
   ]
  },
  {
   "cell_type": "markdown",
   "metadata": {},
   "source": [
    "## Data "
   ]
  },
  {
   "cell_type": "code",
   "execution_count": 2,
   "metadata": {
    "colab": {
     "base_uri": "https://localhost:8080/",
     "height": 287
    },
    "executionInfo": {
     "elapsed": 518,
     "status": "ok",
     "timestamp": 1645099448539,
     "user": {
      "displayName": "Chollette Olisah",
      "photoUrl": "https://lh3.googleusercontent.com/a/default-user=s64",
      "userId": "06699216493296651242"
     },
     "user_tz": -60
    },
    "id": "mvnIrm5_v8d2",
    "outputId": "ac9019f6-32fb-4725-a337-27aa9ab28a09"
   },
   "outputs": [
    {
     "data": {
      "text/html": [
       "<div>\n",
       "<style scoped>\n",
       "    .dataframe tbody tr th:only-of-type {\n",
       "        vertical-align: middle;\n",
       "    }\n",
       "\n",
       "    .dataframe tbody tr th {\n",
       "        vertical-align: top;\n",
       "    }\n",
       "\n",
       "    .dataframe thead th {\n",
       "        text-align: right;\n",
       "    }\n",
       "</style>\n",
       "<table border=\"1\" class=\"dataframe\">\n",
       "  <thead>\n",
       "    <tr style=\"text-align: right;\">\n",
       "      <th></th>\n",
       "      <th>Average_avg-Temp</th>\n",
       "      <th>Average-Min Temp</th>\n",
       "      <th>Average-max-temp</th>\n",
       "      <th>avg-precipitation</th>\n",
       "      <th>avg-windSpeed</th>\n",
       "      <th>pH</th>\n",
       "      <th>Clay</th>\n",
       "      <th>Sand</th>\n",
       "      <th>Silt</th>\n",
       "      <th>Crop Yield</th>\n",
       "      <th>Hectare</th>\n",
       "    </tr>\n",
       "  </thead>\n",
       "  <tbody>\n",
       "    <tr>\n",
       "      <th>count</th>\n",
       "      <td>1827.000000</td>\n",
       "      <td>1827.000000</td>\n",
       "      <td>1827.000000</td>\n",
       "      <td>1827.000000</td>\n",
       "      <td>1827.000000</td>\n",
       "      <td>1827.000000</td>\n",
       "      <td>1827.000000</td>\n",
       "      <td>1827.000000</td>\n",
       "      <td>1827.000000</td>\n",
       "      <td>1827.000000</td>\n",
       "      <td>1827.000000</td>\n",
       "    </tr>\n",
       "    <tr>\n",
       "      <th>mean</th>\n",
       "      <td>26.322562</td>\n",
       "      <td>21.778559</td>\n",
       "      <td>30.868208</td>\n",
       "      <td>151.651866</td>\n",
       "      <td>1.598867</td>\n",
       "      <td>5.647546</td>\n",
       "      <td>23.849206</td>\n",
       "      <td>58.855866</td>\n",
       "      <td>14.915161</td>\n",
       "      <td>1.060098</td>\n",
       "      <td>0.636918</td>\n",
       "    </tr>\n",
       "    <tr>\n",
       "      <th>std</th>\n",
       "      <td>0.897819</td>\n",
       "      <td>1.005999</td>\n",
       "      <td>1.107627</td>\n",
       "      <td>41.440256</td>\n",
       "      <td>0.282128</td>\n",
       "      <td>0.320397</td>\n",
       "      <td>3.564620</td>\n",
       "      <td>6.863483</td>\n",
       "      <td>4.617212</td>\n",
       "      <td>1.029985</td>\n",
       "      <td>0.449801</td>\n",
       "    </tr>\n",
       "    <tr>\n",
       "      <th>min</th>\n",
       "      <td>21.258682</td>\n",
       "      <td>15.489182</td>\n",
       "      <td>26.763396</td>\n",
       "      <td>35.333333</td>\n",
       "      <td>1.283292</td>\n",
       "      <td>4.833333</td>\n",
       "      <td>8.166667</td>\n",
       "      <td>32.500000</td>\n",
       "      <td>4.500000</td>\n",
       "      <td>0.012362</td>\n",
       "      <td>0.005778</td>\n",
       "    </tr>\n",
       "    <tr>\n",
       "      <th>25%</th>\n",
       "      <td>26.059440</td>\n",
       "      <td>21.478750</td>\n",
       "      <td>30.367958</td>\n",
       "      <td>115.333333</td>\n",
       "      <td>1.414682</td>\n",
       "      <td>5.416667</td>\n",
       "      <td>21.833333</td>\n",
       "      <td>54.333333</td>\n",
       "      <td>11.500000</td>\n",
       "      <td>0.466581</td>\n",
       "      <td>0.413982</td>\n",
       "    </tr>\n",
       "    <tr>\n",
       "      <th>50%</th>\n",
       "      <td>26.410911</td>\n",
       "      <td>21.993594</td>\n",
       "      <td>30.661375</td>\n",
       "      <td>150.250000</td>\n",
       "      <td>1.500635</td>\n",
       "      <td>5.666667</td>\n",
       "      <td>24.000000</td>\n",
       "      <td>59.333333</td>\n",
       "      <td>14.666667</td>\n",
       "      <td>0.709389</td>\n",
       "      <td>0.545489</td>\n",
       "    </tr>\n",
       "    <tr>\n",
       "      <th>75%</th>\n",
       "      <td>26.731812</td>\n",
       "      <td>22.374299</td>\n",
       "      <td>31.271596</td>\n",
       "      <td>180.041667</td>\n",
       "      <td>1.655992</td>\n",
       "      <td>5.866667</td>\n",
       "      <td>26.166667</td>\n",
       "      <td>64.000000</td>\n",
       "      <td>18.000000</td>\n",
       "      <td>1.332915</td>\n",
       "      <td>0.669091</td>\n",
       "    </tr>\n",
       "    <tr>\n",
       "      <th>max</th>\n",
       "      <td>29.500161</td>\n",
       "      <td>23.640660</td>\n",
       "      <td>36.186615</td>\n",
       "      <td>314.125000</td>\n",
       "      <td>2.814604</td>\n",
       "      <td>6.783333</td>\n",
       "      <td>40.333333</td>\n",
       "      <td>81.333333</td>\n",
       "      <td>33.000000</td>\n",
       "      <td>5.487014</td>\n",
       "      <td>2.622656</td>\n",
       "    </tr>\n",
       "  </tbody>\n",
       "</table>\n",
       "</div>"
      ],
      "text/plain": [
       "       Average_avg-Temp  Average-Min Temp  Average-max-temp  \\\n",
       "count       1827.000000       1827.000000       1827.000000   \n",
       "mean          26.322562         21.778559         30.868208   \n",
       "std            0.897819          1.005999          1.107627   \n",
       "min           21.258682         15.489182         26.763396   \n",
       "25%           26.059440         21.478750         30.367958   \n",
       "50%           26.410911         21.993594         30.661375   \n",
       "75%           26.731812         22.374299         31.271596   \n",
       "max           29.500161         23.640660         36.186615   \n",
       "\n",
       "       avg-precipitation  avg-windSpeed           pH         Clay  \\\n",
       "count        1827.000000    1827.000000  1827.000000  1827.000000   \n",
       "mean          151.651866       1.598867     5.647546    23.849206   \n",
       "std            41.440256       0.282128     0.320397     3.564620   \n",
       "min            35.333333       1.283292     4.833333     8.166667   \n",
       "25%           115.333333       1.414682     5.416667    21.833333   \n",
       "50%           150.250000       1.500635     5.666667    24.000000   \n",
       "75%           180.041667       1.655992     5.866667    26.166667   \n",
       "max           314.125000       2.814604     6.783333    40.333333   \n",
       "\n",
       "              Sand         Silt   Crop Yield      Hectare  \n",
       "count  1827.000000  1827.000000  1827.000000  1827.000000  \n",
       "mean     58.855866    14.915161     1.060098     0.636918  \n",
       "std       6.863483     4.617212     1.029985     0.449801  \n",
       "min      32.500000     4.500000     0.012362     0.005778  \n",
       "25%      54.333333    11.500000     0.466581     0.413982  \n",
       "50%      59.333333    14.666667     0.709389     0.545489  \n",
       "75%      64.000000    18.000000     1.332915     0.669091  \n",
       "max      81.333333    33.000000     5.487014     2.622656  "
      ]
     },
     "execution_count": 2,
     "metadata": {},
     "output_type": "execute_result"
    }
   ],
   "source": [
    "# Read in data as pandas dataframe and display first 5 rows\n",
    "data = pd.read_csv('final-data-edited-nozero.csv')\n",
    "data.describe()\n",
    "# One-hot encode categorical features\n"
   ]
  },
  {
   "cell_type": "markdown",
   "metadata": {},
   "source": [
    "### Prepare Data"
   ]
  },
  {
   "cell_type": "code",
   "execution_count": 3,
   "metadata": {},
   "outputs": [
    {
     "data": {
      "text/html": [
       "<div>\n",
       "<style scoped>\n",
       "    .dataframe tbody tr th:only-of-type {\n",
       "        vertical-align: middle;\n",
       "    }\n",
       "\n",
       "    .dataframe tbody tr th {\n",
       "        vertical-align: top;\n",
       "    }\n",
       "\n",
       "    .dataframe thead th {\n",
       "        text-align: right;\n",
       "    }\n",
       "</style>\n",
       "<table border=\"1\" class=\"dataframe\">\n",
       "  <thead>\n",
       "    <tr style=\"text-align: right;\">\n",
       "      <th></th>\n",
       "      <th>Average_avg-Temp</th>\n",
       "      <th>Average-Min Temp</th>\n",
       "      <th>Average-max-temp</th>\n",
       "      <th>avg-precipitation</th>\n",
       "      <th>avg-windSpeed</th>\n",
       "      <th>pH</th>\n",
       "      <th>Clay</th>\n",
       "      <th>Sand</th>\n",
       "      <th>Silt</th>\n",
       "      <th>Crop Yield</th>\n",
       "      <th>...</th>\n",
       "      <th>State_Kebbi</th>\n",
       "      <th>State_Kwara</th>\n",
       "      <th>State_Lagos</th>\n",
       "      <th>State_Ogun</th>\n",
       "      <th>State_Ondo</th>\n",
       "      <th>State_Osun</th>\n",
       "      <th>State_Oyo</th>\n",
       "      <th>State_Plateau</th>\n",
       "      <th>State_Rivers</th>\n",
       "      <th>State_Taraba</th>\n",
       "    </tr>\n",
       "  </thead>\n",
       "  <tbody>\n",
       "    <tr>\n",
       "      <th>0</th>\n",
       "      <td>21.258682</td>\n",
       "      <td>15.489182</td>\n",
       "      <td>27.028740</td>\n",
       "      <td>107.791667</td>\n",
       "      <td>2.258682</td>\n",
       "      <td>5.833333</td>\n",
       "      <td>29.500000</td>\n",
       "      <td>43.166667</td>\n",
       "      <td>25.833333</td>\n",
       "      <td>2.603023</td>\n",
       "      <td>...</td>\n",
       "      <td>0</td>\n",
       "      <td>0</td>\n",
       "      <td>0</td>\n",
       "      <td>0</td>\n",
       "      <td>0</td>\n",
       "      <td>0</td>\n",
       "      <td>0</td>\n",
       "      <td>1</td>\n",
       "      <td>0</td>\n",
       "      <td>0</td>\n",
       "    </tr>\n",
       "    <tr>\n",
       "      <th>1</th>\n",
       "      <td>21.287979</td>\n",
       "      <td>15.765146</td>\n",
       "      <td>26.809448</td>\n",
       "      <td>136.270833</td>\n",
       "      <td>1.733292</td>\n",
       "      <td>5.400000</td>\n",
       "      <td>37.833333</td>\n",
       "      <td>35.833333</td>\n",
       "      <td>25.000000</td>\n",
       "      <td>2.389935</td>\n",
       "      <td>...</td>\n",
       "      <td>0</td>\n",
       "      <td>0</td>\n",
       "      <td>0</td>\n",
       "      <td>0</td>\n",
       "      <td>0</td>\n",
       "      <td>0</td>\n",
       "      <td>0</td>\n",
       "      <td>0</td>\n",
       "      <td>0</td>\n",
       "      <td>1</td>\n",
       "    </tr>\n",
       "    <tr>\n",
       "      <th>2</th>\n",
       "      <td>21.341573</td>\n",
       "      <td>16.420537</td>\n",
       "      <td>27.247260</td>\n",
       "      <td>103.395833</td>\n",
       "      <td>2.258510</td>\n",
       "      <td>6.200000</td>\n",
       "      <td>27.500000</td>\n",
       "      <td>44.500000</td>\n",
       "      <td>29.333333</td>\n",
       "      <td>2.603023</td>\n",
       "      <td>...</td>\n",
       "      <td>0</td>\n",
       "      <td>0</td>\n",
       "      <td>0</td>\n",
       "      <td>0</td>\n",
       "      <td>0</td>\n",
       "      <td>0</td>\n",
       "      <td>0</td>\n",
       "      <td>1</td>\n",
       "      <td>0</td>\n",
       "      <td>0</td>\n",
       "    </tr>\n",
       "    <tr>\n",
       "      <th>3</th>\n",
       "      <td>21.474099</td>\n",
       "      <td>15.814495</td>\n",
       "      <td>27.124927</td>\n",
       "      <td>111.145833</td>\n",
       "      <td>2.237911</td>\n",
       "      <td>5.300000</td>\n",
       "      <td>30.833333</td>\n",
       "      <td>43.666667</td>\n",
       "      <td>23.833333</td>\n",
       "      <td>2.603023</td>\n",
       "      <td>...</td>\n",
       "      <td>0</td>\n",
       "      <td>0</td>\n",
       "      <td>0</td>\n",
       "      <td>0</td>\n",
       "      <td>0</td>\n",
       "      <td>0</td>\n",
       "      <td>0</td>\n",
       "      <td>1</td>\n",
       "      <td>0</td>\n",
       "      <td>0</td>\n",
       "    </tr>\n",
       "    <tr>\n",
       "      <th>4</th>\n",
       "      <td>21.523187</td>\n",
       "      <td>15.900604</td>\n",
       "      <td>27.139937</td>\n",
       "      <td>101.750000</td>\n",
       "      <td>2.405010</td>\n",
       "      <td>5.850000</td>\n",
       "      <td>30.000000</td>\n",
       "      <td>48.166667</td>\n",
       "      <td>23.833333</td>\n",
       "      <td>2.603023</td>\n",
       "      <td>...</td>\n",
       "      <td>0</td>\n",
       "      <td>0</td>\n",
       "      <td>0</td>\n",
       "      <td>0</td>\n",
       "      <td>0</td>\n",
       "      <td>0</td>\n",
       "      <td>0</td>\n",
       "      <td>1</td>\n",
       "      <td>0</td>\n",
       "      <td>0</td>\n",
       "    </tr>\n",
       "  </tbody>\n",
       "</table>\n",
       "<p>5 rows × 34 columns</p>\n",
       "</div>"
      ],
      "text/plain": [
       "   Average_avg-Temp  Average-Min Temp  Average-max-temp  avg-precipitation  \\\n",
       "0         21.258682         15.489182         27.028740         107.791667   \n",
       "1         21.287979         15.765146         26.809448         136.270833   \n",
       "2         21.341573         16.420537         27.247260         103.395833   \n",
       "3         21.474099         15.814495         27.124927         111.145833   \n",
       "4         21.523187         15.900604         27.139937         101.750000   \n",
       "\n",
       "   avg-windSpeed        pH       Clay       Sand       Silt  Crop Yield  ...  \\\n",
       "0       2.258682  5.833333  29.500000  43.166667  25.833333    2.603023  ...   \n",
       "1       1.733292  5.400000  37.833333  35.833333  25.000000    2.389935  ...   \n",
       "2       2.258510  6.200000  27.500000  44.500000  29.333333    2.603023  ...   \n",
       "3       2.237911  5.300000  30.833333  43.666667  23.833333    2.603023  ...   \n",
       "4       2.405010  5.850000  30.000000  48.166667  23.833333    2.603023  ...   \n",
       "\n",
       "   State_Kebbi  State_Kwara  State_Lagos  State_Ogun  State_Ondo  State_Osun  \\\n",
       "0            0            0            0           0           0           0   \n",
       "1            0            0            0           0           0           0   \n",
       "2            0            0            0           0           0           0   \n",
       "3            0            0            0           0           0           0   \n",
       "4            0            0            0           0           0           0   \n",
       "\n",
       "   State_Oyo  State_Plateau  State_Rivers  State_Taraba  \n",
       "0          0              1             0             0  \n",
       "1          0              0             0             1  \n",
       "2          0              1             0             0  \n",
       "3          0              1             0             0  \n",
       "4          0              1             0             0  \n",
       "\n",
       "[5 rows x 34 columns]"
      ]
     },
     "execution_count": 3,
     "metadata": {},
     "output_type": "execute_result"
    }
   ],
   "source": [
    "# one hot encode state variable\n",
    "data = pd.get_dummies(data)\n",
    "features.replace({False: 0, True: 1}, inplace=True)\n",
    "data.head(5)"
   ]
  },
  {
   "cell_type": "code",
   "execution_count": 4,
   "metadata": {},
   "outputs": [
    {
     "data": {
      "text/html": [
       "<div>\n",
       "<style scoped>\n",
       "    .dataframe tbody tr th:only-of-type {\n",
       "        vertical-align: middle;\n",
       "    }\n",
       "\n",
       "    .dataframe tbody tr th {\n",
       "        vertical-align: top;\n",
       "    }\n",
       "\n",
       "    .dataframe thead th {\n",
       "        text-align: right;\n",
       "    }\n",
       "</style>\n",
       "<table border=\"1\" class=\"dataframe\">\n",
       "  <thead>\n",
       "    <tr style=\"text-align: right;\">\n",
       "      <th></th>\n",
       "      <th>Average_avg-Temp</th>\n",
       "      <th>Average-Min Temp</th>\n",
       "      <th>Average-max-temp</th>\n",
       "      <th>avg-precipitation</th>\n",
       "      <th>avg-windSpeed</th>\n",
       "      <th>pH</th>\n",
       "      <th>Clay</th>\n",
       "      <th>Sand</th>\n",
       "      <th>Silt</th>\n",
       "      <th>Crop Yield</th>\n",
       "      <th>...</th>\n",
       "      <th>State_Kebbi</th>\n",
       "      <th>State_Kwara</th>\n",
       "      <th>State_Lagos</th>\n",
       "      <th>State_Ogun</th>\n",
       "      <th>State_Ondo</th>\n",
       "      <th>State_Osun</th>\n",
       "      <th>State_Oyo</th>\n",
       "      <th>State_Plateau</th>\n",
       "      <th>State_Rivers</th>\n",
       "      <th>State_Taraba</th>\n",
       "    </tr>\n",
       "  </thead>\n",
       "  <tbody>\n",
       "    <tr>\n",
       "      <th>0</th>\n",
       "      <td>21.258682</td>\n",
       "      <td>15.489182</td>\n",
       "      <td>27.028740</td>\n",
       "      <td>107.791667</td>\n",
       "      <td>2.258682</td>\n",
       "      <td>5.833333</td>\n",
       "      <td>29.500000</td>\n",
       "      <td>43.166667</td>\n",
       "      <td>25.833333</td>\n",
       "      <td>2.603023</td>\n",
       "      <td>...</td>\n",
       "      <td>0</td>\n",
       "      <td>0</td>\n",
       "      <td>0</td>\n",
       "      <td>0</td>\n",
       "      <td>0</td>\n",
       "      <td>0</td>\n",
       "      <td>0</td>\n",
       "      <td>1</td>\n",
       "      <td>0</td>\n",
       "      <td>0</td>\n",
       "    </tr>\n",
       "    <tr>\n",
       "      <th>1</th>\n",
       "      <td>21.287979</td>\n",
       "      <td>15.765146</td>\n",
       "      <td>26.809448</td>\n",
       "      <td>136.270833</td>\n",
       "      <td>1.733292</td>\n",
       "      <td>5.400000</td>\n",
       "      <td>37.833333</td>\n",
       "      <td>35.833333</td>\n",
       "      <td>25.000000</td>\n",
       "      <td>2.389935</td>\n",
       "      <td>...</td>\n",
       "      <td>0</td>\n",
       "      <td>0</td>\n",
       "      <td>0</td>\n",
       "      <td>0</td>\n",
       "      <td>0</td>\n",
       "      <td>0</td>\n",
       "      <td>0</td>\n",
       "      <td>0</td>\n",
       "      <td>0</td>\n",
       "      <td>1</td>\n",
       "    </tr>\n",
       "    <tr>\n",
       "      <th>2</th>\n",
       "      <td>21.341573</td>\n",
       "      <td>16.420537</td>\n",
       "      <td>27.247260</td>\n",
       "      <td>103.395833</td>\n",
       "      <td>2.258510</td>\n",
       "      <td>6.200000</td>\n",
       "      <td>27.500000</td>\n",
       "      <td>44.500000</td>\n",
       "      <td>29.333333</td>\n",
       "      <td>2.603023</td>\n",
       "      <td>...</td>\n",
       "      <td>0</td>\n",
       "      <td>0</td>\n",
       "      <td>0</td>\n",
       "      <td>0</td>\n",
       "      <td>0</td>\n",
       "      <td>0</td>\n",
       "      <td>0</td>\n",
       "      <td>1</td>\n",
       "      <td>0</td>\n",
       "      <td>0</td>\n",
       "    </tr>\n",
       "    <tr>\n",
       "      <th>3</th>\n",
       "      <td>21.474099</td>\n",
       "      <td>15.814495</td>\n",
       "      <td>27.124927</td>\n",
       "      <td>111.145833</td>\n",
       "      <td>2.237911</td>\n",
       "      <td>5.300000</td>\n",
       "      <td>30.833333</td>\n",
       "      <td>43.666667</td>\n",
       "      <td>23.833333</td>\n",
       "      <td>2.603023</td>\n",
       "      <td>...</td>\n",
       "      <td>0</td>\n",
       "      <td>0</td>\n",
       "      <td>0</td>\n",
       "      <td>0</td>\n",
       "      <td>0</td>\n",
       "      <td>0</td>\n",
       "      <td>0</td>\n",
       "      <td>1</td>\n",
       "      <td>0</td>\n",
       "      <td>0</td>\n",
       "    </tr>\n",
       "    <tr>\n",
       "      <th>4</th>\n",
       "      <td>21.523187</td>\n",
       "      <td>15.900604</td>\n",
       "      <td>27.139937</td>\n",
       "      <td>101.750000</td>\n",
       "      <td>2.405010</td>\n",
       "      <td>5.850000</td>\n",
       "      <td>30.000000</td>\n",
       "      <td>48.166667</td>\n",
       "      <td>23.833333</td>\n",
       "      <td>2.603023</td>\n",
       "      <td>...</td>\n",
       "      <td>0</td>\n",
       "      <td>0</td>\n",
       "      <td>0</td>\n",
       "      <td>0</td>\n",
       "      <td>0</td>\n",
       "      <td>0</td>\n",
       "      <td>0</td>\n",
       "      <td>1</td>\n",
       "      <td>0</td>\n",
       "      <td>0</td>\n",
       "    </tr>\n",
       "  </tbody>\n",
       "</table>\n",
       "<p>5 rows × 34 columns</p>\n",
       "</div>"
      ],
      "text/plain": [
       "   Average_avg-Temp  Average-Min Temp  Average-max-temp  avg-precipitation  \\\n",
       "0         21.258682         15.489182         27.028740         107.791667   \n",
       "1         21.287979         15.765146         26.809448         136.270833   \n",
       "2         21.341573         16.420537         27.247260         103.395833   \n",
       "3         21.474099         15.814495         27.124927         111.145833   \n",
       "4         21.523187         15.900604         27.139937         101.750000   \n",
       "\n",
       "   avg-windSpeed        pH       Clay       Sand       Silt  Crop Yield  ...  \\\n",
       "0       2.258682  5.833333  29.500000  43.166667  25.833333    2.603023  ...   \n",
       "1       1.733292  5.400000  37.833333  35.833333  25.000000    2.389935  ...   \n",
       "2       2.258510  6.200000  27.500000  44.500000  29.333333    2.603023  ...   \n",
       "3       2.237911  5.300000  30.833333  43.666667  23.833333    2.603023  ...   \n",
       "4       2.405010  5.850000  30.000000  48.166667  23.833333    2.603023  ...   \n",
       "\n",
       "   State_Kebbi  State_Kwara  State_Lagos  State_Ogun  State_Ondo  State_Osun  \\\n",
       "0            0            0            0           0           0           0   \n",
       "1            0            0            0           0           0           0   \n",
       "2            0            0            0           0           0           0   \n",
       "3            0            0            0           0           0           0   \n",
       "4            0            0            0           0           0           0   \n",
       "\n",
       "   State_Oyo  State_Plateau  State_Rivers  State_Taraba  \n",
       "0          0              1             0             0  \n",
       "1          0              0             0             1  \n",
       "2          0              1             0             0  \n",
       "3          0              1             0             0  \n",
       "4          0              1             0             0  \n",
       "\n",
       "[5 rows x 34 columns]"
      ]
     },
     "execution_count": 4,
     "metadata": {},
     "output_type": "execute_result"
    }
   ],
   "source": [
    "#Drop Duplicate\n",
    "data2 = data.drop_duplicates()"
   ]
  },
  {
   "cell_type": "code",
   "execution_count": 7,
   "metadata": {
    "executionInfo": {
     "elapsed": 361,
     "status": "ok",
     "timestamp": 1645099458272,
     "user": {
      "displayName": "Chollette Olisah",
      "photoUrl": "https://lh3.googleusercontent.com/a/default-user=s64",
      "userId": "06699216493296651242"
     },
     "user_tz": -60
    },
    "id": "zKsgqdr3xxXW"
   },
   "outputs": [],
   "source": [
    "#drop variables not selected after feature selection\n",
    "data2= data2.drop(['Average_avg-Temp', 'Average-max-temp', 'Clay'], axis = 1)\n",
    "# convert to float\n",
    "data2 = data2.astype('float32')\n",
    "# prepare target value\n",
    "# Labels are the target values\n",
    "labels = np.array(data2['Crop Yield'])\n",
    "labels = np.reshape(labels, (-1,1))\n",
    "# Remove the labels from the features\n",
    "data2= data2.drop('Crop Yield', axis = 1)# axis 1 refers to the columns\n",
    "# Convert to numpy array\n",
    "data2 = np.array(data2)"
   ]
  },
  {
   "cell_type": "markdown",
   "metadata": {},
   "source": [
    "### Split Data"
   ]
  },
  {
   "cell_type": "code",
   "execution_count": null,
   "metadata": {
    "colab": {
     "base_uri": "https://localhost:8080/"
    },
    "executionInfo": {
     "elapsed": 351,
     "status": "ok",
     "timestamp": 1645101303481,
     "user": {
      "displayName": "Chollette Olisah",
      "photoUrl": "https://lh3.googleusercontent.com/a/default-user=s64",
      "userId": "06699216493296651242"
     },
     "user_tz": -60
    },
    "id": "OwWWMMjxyOgr",
    "outputId": "fb8b2840-06b8-4fb2-bfdb-b2c003034877"
   },
   "outputs": [],
   "source": [
    "# Split the data into training, validatio, and testing sets\n",
    "train_features, val_test_features, train_labels, val_test_labels = train_test_split(data2, labels, test_size = 0.3,shuffle=True, random_state = 0)\n",
    "X_val, X_test, Y_val, Y_test = train_test_split(val_test_features, val_test_labels, shuffle=True, test_size=0.5, random_state=0)\n",
    "print('Training Features Shape:', train_features.shape)\n",
    "print('Training Labels Shape:', train_labels.shape)\n",
    "print('Testing Features Shape:', X_test.shape)\n",
    "print('Testing Labels Shape:', Y_test.shape)\n",
    "print('Validation Features Shape:', X_val.shape)\n",
    "print('Validation Label Shape:', Y_val.shape)"
   ]
  },
  {
   "cell_type": "markdown",
   "metadata": {},
   "source": [
    "### Model"
   ]
  },
  {
   "cell_type": "markdown",
   "metadata": {},
   "source": [
    "##### DNN64"
   ]
  },
  {
   "cell_type": "code",
   "execution_count": null,
   "metadata": {},
   "outputs": [],
   "source": [
    "def create_model(data):\n",
    "    model = keras.Sequential([\n",
    "        data, \n",
    "        layers.Dense(64, activation='relu'),\n",
    "        layers.Dense(64, activation='relu'),\n",
    "        layers.Dense(64, activation='relu'),\n",
    "        layers.Dense(1)  \n",
    "    ])\n",
    "    model.compile(loss='mean_absolute_error', optimizer=tf.keras.optimizers.Adam(0.001))         \n",
    "    return model\n",
    "model64 = create_model(normalizer)\n",
    "history64 = model64.fit(train_features, train_labels,validation_data=(X_val, Y_val),batch_size=100, verbose=1, epochs=60)"
   ]
  },
  {
   "cell_type": "code",
   "execution_count": null,
   "metadata": {},
   "outputs": [],
   "source": [
    "MODEL_PATH = \"./DNNmodel64\"\n",
    "model64.save(MODEL_PATH)"
   ]
  },
  {
   "cell_type": "markdown",
   "metadata": {},
   "source": [
    "##### DNN16"
   ]
  },
  {
   "cell_type": "code",
   "execution_count": null,
   "metadata": {},
   "outputs": [],
   "source": [
    "def create_model(data):\n",
    "    model = keras.Sequential([\n",
    "        data, \n",
    "        layers.Dense(64, activation='relu'),\n",
    "        layers.Dense(64, activation='relu'),\n",
    "        layers.Dense(16, activation='relu'),\n",
    "        layers.Dense(1)  \n",
    "    ])\n",
    "    model.compile(loss='mean_absolute_error', optimizer=tf.keras.optimizers.Adam(0.001))         \n",
    "    return model\n",
    "model16 = create_model(normalizer)\n",
    "history16 = model16.fit(train_features, train_labels,validation_data=(X_val, Y_val),batch_size=100, verbose=1, epochs=60)"
   ]
  },
  {
   "cell_type": "code",
   "execution_count": null,
   "metadata": {},
   "outputs": [],
   "source": [
    "MODEL_PATH = \"./DNNmodel16\"\n",
    "model16.save(MODEL_PATH)"
   ]
  },
  {
   "cell_type": "code",
   "execution_count": null,
   "metadata": {},
   "outputs": [],
   "source": [
    "print(model64.evaluate(train_features, train_labels))\n",
    "print(model16.evaluate(train_features, train_labels))\n",
    "print(model64.evaluate(X_val, Y_val))\n",
    "print(model16.evaluate(X_val, Y_val))\n",
    "print(model64.evaluate(X_test, Y_test))\n",
    "print(model16.evaluate(X_test, Y_test))"
   ]
  },
  {
   "cell_type": "markdown",
   "metadata": {},
   "source": [
    "#### Validate models performance through Cross-validation\n"
   ]
  },
  {
   "cell_type": "code",
   "execution_count": null,
   "metadata": {},
   "outputs": [],
   "source": [
    "def create_model(data, unit):\n",
    "    model = keras.Sequential([\n",
    "        data, \n",
    "        layers.Dense(64, activation='relu'),\n",
    "        layers.Dense(64, activation='relu'),\n",
    "        layers.Dense(unit, activation='relu'),\n",
    "        layers.Dense(1)  \n",
    "    ])\n",
    "    model.compile(loss='mean_absolute_error', optimizer=tf.keras.optimizers.Adam(0.001))         \n",
    "    return model\n",
    "\n",
    "\n",
    "units = [64,16]\n",
    "historys = []\n",
    "score = []\n",
    "\n",
    "for i in range(0,10):\n",
    "    print('*********************************************************************************************')\n",
    "    # Using Skicit-learn to split data into training and testing sets\n",
    "    from sklearn.model_selection import train_test_split\n",
    "\n",
    "    # Split the data into training and testing sets\n",
    "    train_features, val_test_features, train_labels, val_test_labels = train_test_split(data2, labels, test_size = 0.3,\n",
    "                                                                              shuffle=True, random_state = i)\n",
    "    X_val, X_test, Y_val, Y_test = train_test_split(val_test_features, val_test_labels, shuffle=True, test_size=0.5, random_state=i)\n",
    "    \n",
    "    normalizer = preprocessing.Normalization(axis=-1)\n",
    "    normalizer.adapt(np.array(train_features))\n",
    "   \n",
    "    for unit in units:\n",
    "        #Early stopping\n",
    "        es = EarlyStopping(monitor='val_loss', mode='min', patience=7,  restore_best_weights=True)\n",
    "        #rlr = ReduceLROnPlateau(monitor='val_loss', factor=0.2,patience=5, min_lr=0.01)\n",
    "        \n",
    "        model = create_model(normalizer, unit)\n",
    "        history = model.fit(train_features, train_labels,validation_data=(X_val, Y_val),batch_size=100, verbose=1, epochs=60, callbacks=es)\n",
    "        historys.append(history)\n",
    "        score1 = model.evaluate(train_features, train_labels, verbose=1)\n",
    "        score.append(score1)\n",
    "        print('&&&&&&&&&&&&&&&&&&&&&&&&&&&&&&&&&&&&&&&&&&&&&&&&&&&&&&&&&&&&&&&&&&&&&&&&&&&&&&&&&&&&&&&&&')\n",
    "    i += 1\n",
    "#print('Mean MAE: %.3f (%.3f)' % (score.mean(), score.std()) )"
   ]
  },
  {
   "cell_type": "code",
   "execution_count": 204,
   "metadata": {},
   "outputs": [],
   "source": [
    "layer = []\n",
    "for i in range(0,10):\n",
    "    for unit in units:\n",
    "        layer.append(unit)\n",
    "        \n",
    "        \n",
    "L = pd.DataFrame(layer)\n",
    "B = pd.DataFrame(score)\n",
    "C = pd.concat([L, B], axis=1)\n",
    "\n",
    "\n",
    "C.columns = [\"layer\", \"score\"]\n",
    "C = C.sort_values('layer')\n",
    "\n",
    "C.to_csv('scorebylayer.csv')"
   ]
  },
  {
   "cell_type": "markdown",
   "metadata": {},
   "source": [
    "## Testing"
   ]
  },
  {
   "cell_type": "markdown",
   "metadata": {},
   "source": [
    "#### Generalisation to unseen set"
   ]
  },
  {
   "cell_type": "code",
   "execution_count": 4,
   "metadata": {},
   "outputs": [],
   "source": [
    "model64 = tf.keras.models.load_model('DNNmodel64')\n",
    "model16 = tf.keras.models.load_model('DNNmodel16')"
   ]
  },
  {
   "cell_type": "code",
   "execution_count": 26,
   "metadata": {},
   "outputs": [],
   "source": [
    "Test = pd.DataFrame(X_test)"
   ]
  },
  {
   "cell_type": "code",
   "execution_count": 32,
   "metadata": {},
   "outputs": [],
   "source": [
    "tt = np.array(X_test.reshape(245,30))"
   ]
  },
  {
   "cell_type": "code",
   "execution_count": 46,
   "metadata": {},
   "outputs": [
    {
     "name": "stdout",
     "output_type": "stream",
     "text": [
      "8/8 [==============================] - 0s 2ms/step\n"
     ]
    }
   ],
   "source": [
    "ttpred64 = model64.predict(np.array(tt).reshape(245,30))"
   ]
  },
  {
   "cell_type": "code",
   "execution_count": 51,
   "metadata": {},
   "outputs": [
    {
     "name": "stdout",
     "output_type": "stream",
     "text": [
      "8/8 [==============================] - 0s 2ms/step\n"
     ]
    }
   ],
   "source": [
    "ttpred16 = model16.predict(np.array(tt).reshape(245,30))"
   ]
  },
  {
   "cell_type": "code",
   "execution_count": 41,
   "metadata": {},
   "outputs": [],
   "source": [
    "pred = pd.DataFrame(ttpred64)\n",
    "yact = pd.DataFrame(Y_test)"
   ]
  },
  {
   "cell_type": "code",
   "execution_count": 43,
   "metadata": {},
   "outputs": [],
   "source": [
    "all64 = pd.concat([pred, yact], axis=1)\n",
    "all64.columns = [\"y_pred\", \"y_actual\"]\n",
    "all64.to_csv('predicted64&actual.csv')"
   ]
  },
  {
   "cell_type": "code",
   "execution_count": 52,
   "metadata": {},
   "outputs": [],
   "source": [
    "pred = pd.DataFrame(ttpred16)\n",
    "yact = pd.DataFrame(Y_test)"
   ]
  },
  {
   "cell_type": "code",
   "execution_count": 53,
   "metadata": {},
   "outputs": [],
   "source": [
    "all16 = pd.concat([pred, yact], axis=1)\n",
    "all16.columns = [\"y_pred\", \"y_actual\"]\n",
    "all16.to_csv('predicted16&actual.csv')"
   ]
  },
  {
   "cell_type": "markdown",
   "metadata": {},
   "source": [
    "#### Generalisation to Unforeseen set"
   ]
  },
  {
   "cell_type": "markdown",
   "metadata": {},
   "source": [
    "###### change to precipitation"
   ]
  },
  {
   "cell_type": "code",
   "execution_count": null,
   "metadata": {},
   "outputs": [],
   "source": [
    "tf = np.array([ 21.69209,   13.52083,     1.4988489,   5.4666667,  59.833332,   10.166667,   0.5454889,   0. ,         0.,          0.,          0.,          0.,   0.,          0.,          0.,          0.,          0.,          0.,1.,          0.,          0.,          0.,          0.,          0.,  0.,          0.,          0.,          0.,          0. ,         0. ])\n",
    "model16.predict(np.array(tf).reshape(1,30))"
   ]
  },
  {
   "cell_type": "code",
   "execution_count": null,
   "metadata": {},
   "outputs": [],
   "source": [
    "tf = np.array([ 21.69209,   13.52083,     1.4988489,   5.4666667,  59.833332,   10.166667,   0.5454889,   0. ,         0.,          0.,          0.,          0.,   0.,          0.,          0.,          0.,          0.,          0.,1.,          0.,          0.,          0.,          0.,          0.,  0.,          0.,          0.,          0.,          0. ,         0. ])\n",
    "model64.predict(np.array(tf).reshape(1,30))"
   ]
  },
  {
   "cell_type": "code",
   "execution_count": null,
   "metadata": {},
   "outputs": [],
   "source": [
    "tf2 = np.array([16.685463 , 9.125 ,     2.417177,   5.5666666 ,35.5   ,    27.333334,  1.6867675,  0.  ,       0.    ,     0. ,        0.         ,0.,  0.  ,       0.   ,      0.   ,      0.   ,      0.   ,      0.,  0.  ,       0.   ,      0.    ,     0.    ,     0.    ,     0.,  0.   ,      0.   ,      0.  ,       1.    ,     0.  ,       0.       ])\n",
    "model16.predict(np.array(tf2).reshape(1,30))"
   ]
  },
  {
   "cell_type": "code",
   "execution_count": null,
   "metadata": {},
   "outputs": [],
   "source": [
    "tf2 = np.array([16.685463 , 9.125 ,     2.417177,   5.5666666 ,35.5   ,    27.333334,  1.6867675,  0.  ,       0.    ,     0. ,        0.         ,0.,  0.  ,       0.   ,      0.   ,      0.   ,      0.   ,      0.,  0.  ,       0.   ,      0.    ,     0.    ,     0.    ,     0.,  0.   ,      0.   ,      0.  ,       1.    ,     0.  ,       0.       ])\n",
    "model64.predict(np.array(tf2).reshape(1,30))"
   ]
  },
  {
   "cell_type": "markdown",
   "metadata": {},
   "source": [
    "##### change silt"
   ]
  },
  {
   "cell_type": "code",
   "execution_count": null,
   "metadata": {},
   "outputs": [],
   "source": [
    "tf = np.array([ 21.69209,   133.52083,     1.4988489,   5.4666667,  59.833332,   29.166667,   0.5454889,   0. ,         0.,          0.,          0.,          0.,   0.,          0.,          0.,          0.,          0.,          0.,1.,          0.,          0.,          0.,          0.,          0.,  0.,          0.,          0.,          0.,          0. ,         0. ])\n",
    "model64.predict(np.array(tf).reshape(1,30))"
   ]
  },
  {
   "cell_type": "code",
   "execution_count": null,
   "metadata": {},
   "outputs": [],
   "source": [
    "tf2 = np.array([16.685463 , 99.125 ,     2.417177,   5.5666666 ,35.5   ,    50.333334,  1.6867675,  0.  ,       0.    ,     0. ,        0.         ,0.,  0.  ,       0.   ,      0.   ,      0.   ,      0.   ,      0.,  0.  ,       0.   ,      0.    ,     0.    ,     0.    ,     0.,  0.   ,      0.   ,      0.  ,       1.    ,     0.  ,       0.       ])\n",
    "model16.predict(np.array(tf2).reshape(1,30))"
   ]
  },
  {
   "cell_type": "code",
   "execution_count": null,
   "metadata": {},
   "outputs": [],
   "source": [
    "tf2 = np.array([16.685463 , 99.125 ,     2.417177,   5.5666666 ,35.5   ,    50.333334,  1.6867675,  0.  ,       0.    ,     0. ,        0.         ,0.,  0.  ,       0.   ,      0.   ,      0.   ,      0.   ,      0.,  0.  ,       0.   ,      0.    ,     0.    ,     0.    ,     0.,  0.   ,      0.   ,      0.  ,       1.    ,     0.  ,       0.       ])\n",
    "model64.predict(np.array(tf2).reshape(1,30))"
   ]
  }
 ],
 "metadata": {
  "colab": {
   "authorship_tag": "ABX9TyOGESS0r+bZFb2e2wXt0IF1",
   "collapsed_sections": [],
   "name": "DNN-YIELD-PREDICTION",
   "provenance": [
    {
     "file_id": "1pO7bHIvf4nF5gm5aAREBAZv54GY6GS26",
     "timestamp": 1623166406239
    }
   ]
  },
  "kernelspec": {
   "display_name": "Python 3 (ipykernel)",
   "language": "python",
   "name": "python3"
  },
  "language_info": {
   "codemirror_mode": {
    "name": "ipython",
    "version": 3
   },
   "file_extension": ".py",
   "mimetype": "text/x-python",
   "name": "python",
   "nbconvert_exporter": "python",
   "pygments_lexer": "ipython3",
   "version": "3.10.9"
  }
 },
 "nbformat": 4,
 "nbformat_minor": 1
}
